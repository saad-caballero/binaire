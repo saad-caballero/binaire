{
 "cells": [
  {
   "cell_type": "code",
   "execution_count": null,
   "id": "8a8e7cb0-59b4-4850-8d56-5b299e95f434",
   "metadata": {},
   "outputs": [],
   "source": [
    "def binary_search(arr, x):\n",
    "    low = 0\n",
    "    high = len(arr) - 1\n",
    "    while low <= high:\n",
    "        mid = (low + high) // 2\n",
    "        if arr[mid] < x:\n",
    "            low = mid + 1\n",
    "        elif arr[mid] > x:\n",
    "            high = mid - 1\n",
    "        else:\n",
    "            return True\n",
    "    return False\n",
    "\n",
    "# Test\n",
    "print(binary_search([1,2,3,5,8], 6))  # False\n",
    "print(binary_search([1,2,3,5,8], 5))  # True\n",
    "\n",
    "def power(a, b):\n",
    "    return a ** b\n",
    "\n",
    "# Test\n",
    "print(power(3, 4))  # 81\n",
    "\n",
    "def bubble_sort(arr):\n",
    "    n = len(arr)\n",
    "    for i in range(n):\n",
    "        for j in range(0, n-i-1):\n",
    "            if arr[j] > arr[j+1]:\n",
    "                arr[j], arr[j+1] = arr[j+1], arr[j]\n",
    "\n",
    "# Test\n",
    "example_list = [29,13,22,37,52,49,46,71,56]\n",
    "bubble_sort(example_list)\n",
    "print(example_list)\n",
    "\n"
   ]
  }
 ],
 "metadata": {
  "kernelspec": {
   "display_name": "Python 3 (ipykernel)",
   "language": "python",
   "name": "python3"
  },
  "language_info": {
   "codemirror_mode": {
    "name": "ipython",
    "version": 3
   },
   "file_extension": ".py",
   "mimetype": "text/x-python",
   "name": "python",
   "nbconvert_exporter": "python",
   "pygments_lexer": "ipython3",
   "version": "3.11.5"
  }
 },
 "nbformat": 4,
 "nbformat_minor": 5
}
